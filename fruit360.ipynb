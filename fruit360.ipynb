{
 "cells": [
  {
   "cell_type": "code",
   "execution_count": 28,
   "metadata": {},
   "outputs": [],
   "source": [
    "import numpy as np\n",
    "import csv\n",
    "import cv2\n",
    "import os, glob\n",
    "import random\n",
    "import sklearn\n",
    "from sklearn.model_selection import train_test_split\n",
    "import time\n",
    "from keras.datasets import cifar10\n",
    "from keras.models import Sequential\n",
    "from keras.layers import Dense\n",
    "from keras.layers import Dropout\n",
    "from keras.layers import Flatten\n",
    "from keras.constraints import maxnorm\n",
    "from keras.optimizers import SGD\n",
    "from keras.layers import Conv2D\n",
    "from keras.layers.convolutional import MaxPooling2D\n",
    "from keras.utils import np_utils\n",
    "from matplotlib import pyplot as plt\n",
    "from subprocess import check_output"
   ]
  },
  {
   "cell_type": "code",
   "execution_count": 29,
   "metadata": {},
   "outputs": [],
   "source": [
    "def load_data(data_dir):\n",
    "\t\n",
    "\t# Get all subdirectories. A folder for each class\n",
    "    #if os.path.isdir(os.path.join(data_dir, d))]\n",
    "\tdirectories = [d for d in os.listdir(data_dir)\n",
    "\t\t\t\t\tif os.path.isdir(os.path.join(data_dir, d))]\n",
    "\t#print(directories)\n",
    "    # Loop through the label directories and collect the data in\n",
    "    # two lists, labels and images.\n",
    "\tlabels = []\n",
    "\timages = []\n",
    "\n",
    "\tcategory = 0\n",
    "\tfor d in directories:\n",
    "\t\tlabel_dir = os.path.join(data_dir, d)\n",
    "\t\tfile_names = [os.path.join(label_dir, f)\n",
    "\t\t\t\t\tfor f in os.listdir(label_dir)\n",
    "\t\t\t\t\tif f.endswith(\".jpg\")]\n",
    "        # adding an early stop for sake of speed\n",
    "\t\t#stop = 0\n",
    "\t\tfor f in file_names:\n",
    "\t\t\timg = cv2.imread(f)\n",
    "\t\t\timresize = cv2.resize(img, (100, 100))\n",
    "\t\t\t#plt.imshow(imresize)\n",
    "\t\t\timages.append(imresize)\n",
    "\t\t\tlabels.append(category)\n",
    "\t\t\t# remove this to use full data set\n",
    "\t\t\t#if stop > 30:\n",
    "\t\t\t#break\n",
    "\t\t\t#stop += 1\n",
    "\t\t\t#print(stop)\n",
    "\t\t\t# end early stop\n",
    "            \n",
    "\t\tcategory += 1\n",
    "\n",
    "\treturn images, labels"
   ]
  },
  {
   "cell_type": "code",
   "execution_count": 30,
   "metadata": {},
   "outputs": [
    {
     "name": "stdout",
     "output_type": "stream",
     "text": [
      "9706\n",
      "9706\n",
      "Training set dims\n"
     ]
    }
   ],
   "source": [
    "PATH = os.getcwd()\n",
    "\n",
    "data_dir = PATH+'/train'\n",
    "training_images, training_labels = load_data(data_dir)\n",
    "\n",
    "# confirm that we have the data\n",
    "print(len(training_images))\n",
    "print(len(training_labels))\n",
    "print(\"Training set dims\")\n",
    "#cv2.imshow(str(training_labels[random.randint(0,(len(training_labels)-1))]), training_images[random.randint(0,(len(training_images)-1))])\n",
    "#cv2.waitKey(0)\n",
    "#cv2.destroyAllWindows()\n",
    "\n",
    "data_dir = PATH+'/validation'\n",
    "validation_images, validation_labels = load_data(data_dir)\n"
   ]
  },
  {
   "cell_type": "code",
   "execution_count": 31,
   "metadata": {},
   "outputs": [
    {
     "name": "stdout",
     "output_type": "stream",
     "text": [
      "Validation set dims\n",
      "8106\n",
      "8106\n"
     ]
    }
   ],
   "source": [
    "print(\"Validation set dims\")\n",
    "print(len(validation_images))\n",
    "print(len(validation_labels))"
   ]
  },
  {
   "cell_type": "code",
   "execution_count": 32,
   "metadata": {},
   "outputs": [
    {
     "name": "stdout",
     "output_type": "stream",
     "text": [
      "Test set dims\n",
      "3245\n",
      "3245\n"
     ]
    }
   ],
   "source": [
    "data_dir = PATH+'/test'\n",
    "testing_images, testing_labels = load_data(data_dir)\n",
    "print(\"Test set dims\")\n",
    "print(len(testing_images))\n",
    "print(len(testing_labels))\n"
   ]
  },
  {
   "cell_type": "code",
   "execution_count": 33,
   "metadata": {},
   "outputs": [],
   "source": [
    "X_train = np.array(training_images).astype('float32')\n",
    "X_cv = np.array(validation_images).astype('float32')\n",
    "X_test = np.array(testing_images).astype('float32')\n",
    "X_train = X_train / 255.0\n",
    "X_cv = X_cv / 255.0\n",
    "X_test = X_test / 255.0"
   ]
  },
  {
   "cell_type": "code",
   "execution_count": 34,
   "metadata": {},
   "outputs": [],
   "source": [
    "y_train = np.array(training_labels)\n",
    "y_cv = np.array(validation_labels)\n",
    "y_train = np_utils.to_categorical(y_train)\n",
    "y_cv = np_utils.to_categorical(y_cv)"
   ]
  },
  {
   "cell_type": "code",
   "execution_count": 35,
   "metadata": {},
   "outputs": [
    {
     "name": "stdout",
     "output_type": "stream",
     "text": [
      "X_train\n",
      "9706\n",
      "X_cv\n",
      "8106\n",
      "y_train\n",
      "9706\n",
      "y_cv\n",
      "8106\n",
      "Number of classes\n",
      "20\n",
      "Data normalized and hot encoded.\n"
     ]
    }
   ],
   "source": [
    "num_classes = y_cv.shape[1]\n",
    "print(\"X_train\")\n",
    "print(len(X_train))\n",
    "print(\"X_cv\")\n",
    "print(len(X_cv))\n",
    "print(\"y_train\")\n",
    "print(len(y_train))\n",
    "print(\"y_cv\")\n",
    "print(len(y_cv))\n",
    "print(\"Number of classes\")\n",
    "print(num_classes)\n",
    "print(\"Data normalized and hot encoded.\")\n"
   ]
  },
  {
   "cell_type": "code",
   "execution_count": 36,
   "metadata": {},
   "outputs": [],
   "source": [
    "def create_cnn_model(num_classes, lrate):\n",
    "\t# Create model\n",
    "\tmodel = Sequential()\n",
    "\tmodel.add(Conv2D(32, kernel_size=(3, 3), input_shape=(100, 100, 3), padding='same', activation='relu', kernel_constraint=maxnorm(3)))\n",
    "\tmodel.add (Dropout(0.2))\n",
    "\tmodel.add(Conv2D(32, kernel_size=(3, 3), padding='same', activation='relu', kernel_constraint=maxnorm(3)))\n",
    "\tmodel.add(MaxPooling2D(pool_size=(2, 2)))\n",
    "\tmodel.add(Flatten())\n",
    "\tmodel.add(Dense(512, activation='relu', kernel_constraint=maxnorm(3)))\n",
    "\tmodel.add(Dropout(0.5))\n",
    "\tmodel.add(Dense(num_classes, activation='softmax'))\n",
    "\t# Compile Model\n",
    "\tepochs = 1\n",
    "\tdecay = lrate/epochs\n",
    "\tsgd = SGD(lr=lrate, momentum=0.9, decay=decay, nesterov=False)\n",
    "\tmodel.compile(loss='categorical_crossentropy', optimizer=sgd, metrics=['accuracy'])\n",
    "\tprint(model.summary())\n",
    "\treturn model, epochs"
   ]
  },
  {
   "cell_type": "code",
   "execution_count": 37,
   "metadata": {},
   "outputs": [
    {
     "name": "stdout",
     "output_type": "stream",
     "text": [
      "Model: \"sequential_2\"\n",
      "_________________________________________________________________\n",
      "Layer (type)                 Output Shape              Param #   \n",
      "=================================================================\n",
      "conv2d_3 (Conv2D)            (None, 100, 100, 32)      896       \n",
      "_________________________________________________________________\n",
      "dropout_3 (Dropout)          (None, 100, 100, 32)      0         \n",
      "_________________________________________________________________\n",
      "conv2d_4 (Conv2D)            (None, 100, 100, 32)      9248      \n",
      "_________________________________________________________________\n",
      "max_pooling2d_2 (MaxPooling2 (None, 50, 50, 32)        0         \n",
      "_________________________________________________________________\n",
      "flatten_2 (Flatten)          (None, 80000)             0         \n",
      "_________________________________________________________________\n",
      "dense_3 (Dense)              (None, 512)               40960512  \n",
      "_________________________________________________________________\n",
      "dropout_4 (Dropout)          (None, 512)               0         \n",
      "_________________________________________________________________\n",
      "dense_4 (Dense)              (None, 20)                10260     \n",
      "=================================================================\n",
      "Total params: 40,980,916\n",
      "Trainable params: 40,980,916\n",
      "Non-trainable params: 0\n",
      "_________________________________________________________________\n",
      "None\n",
      " CNN model created. \n"
     ]
    }
   ],
   "source": [
    "model, epochs = create_cnn_model(num_classes, 0.01)\n",
    "print(\" CNN model created. \")"
   ]
  },
  {
   "cell_type": "code",
   "execution_count": 39,
   "metadata": {},
   "outputs": [
    {
     "name": "stdout",
     "output_type": "stream",
     "text": [
      "Train on 9706 samples, validate on 8106 samples\n",
      "Epoch 1/1\n",
      "9706/9706 [==============================] - 831s 86ms/step - loss: 0.3495 - accuracy: 0.8711 - val_loss: 0.0839 - val_accuracy: 0.9774\n"
     ]
    },
    {
     "data": {
      "text/plain": [
       "<keras.callbacks.callbacks.History at 0x1a46d4e2d0>"
      ]
     },
     "execution_count": 39,
     "metadata": {},
     "output_type": "execute_result"
    }
   ],
   "source": [
    "seed = 7\n",
    "np.random.seed(seed)\n",
    "model.fit(X_train, y_train, validation_data=(X_cv, y_cv), epochs=epochs, batch_size=64)\n"
   ]
  },
  {
   "cell_type": "code",
   "execution_count": 40,
   "metadata": {},
   "outputs": [
    {
     "name": "stdout",
     "output_type": "stream",
     "text": [
      "8106/8106 [==============================] - 104s 13ms/step\n",
      "Accuracy: 97.74%\n",
      "Training Done\n"
     ]
    }
   ],
   "source": [
    "scores = model.evaluate(X_cv, y_cv, verbose=1)\n",
    "print(\"Accuracy: %.2f%%\" % (scores[1]*100))\n",
    "print(\"Training Done\")"
   ]
  },
  {
   "cell_type": "code",
   "execution_count": null,
   "metadata": {},
   "outputs": [
    {
     "name": "stdout",
     "output_type": "stream",
     "text": [
      "Evaluating test images \n",
      "[[9.8226005e-01 1.0317956e-08 2.9415602e-03 ... 4.0825611e-07\n",
      "  1.2168939e-06 4.1130575e-04]\n",
      " [9.9486792e-01 4.4097226e-10 8.3849370e-04 ... 2.1609715e-08\n",
      "  3.0671609e-07 4.5451947e-05]\n",
      " [9.9969900e-01 1.1781318e-10 6.6733657e-05 ... 3.8660950e-09\n",
      "  8.7588027e-08 2.2462367e-05]\n",
      " ...\n",
      " [2.3395035e-02 7.1150776e-06 8.9385826e-04 ... 3.8425945e-02\n",
      "  1.4743971e-04 6.4761442e-01]\n",
      " [1.8847538e-02 6.2206805e-06 1.0721320e-03 ... 4.2419983e-03\n",
      "  2.0557694e-04 9.1555154e-01]\n",
      " [4.3993536e-03 3.8654189e-08 3.0983926e-04 ... 4.3038838e-04\n",
      "  9.4682724e-07 9.9341136e-01]]\n",
      "Predictions Done\n"
     ]
    }
   ],
   "source": [
    "#X_test=np_utils.to_categorical(X_test)\n",
    "print(\"Evaluating test images \")\n",
    "cnn_prediction = model.predict(X_test)\n",
    "print(cnn_prediction)\n",
    "print(\"Predictions Done\")\n"
   ]
  },
  {
   "cell_type": "code",
   "execution_count": null,
   "metadata": {},
   "outputs": [],
   "source": []
  }
 ],
 "metadata": {
  "kernelspec": {
   "display_name": "Python 3",
   "language": "python",
   "name": "python3"
  },
  "language_info": {
   "codemirror_mode": {
    "name": "ipython",
    "version": 3
   },
   "file_extension": ".py",
   "mimetype": "text/x-python",
   "name": "python",
   "nbconvert_exporter": "python",
   "pygments_lexer": "ipython3",
   "version": "3.7.4"
  }
 },
 "nbformat": 4,
 "nbformat_minor": 2
}
